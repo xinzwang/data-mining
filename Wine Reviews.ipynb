{
 "cells": [
  {
   "cell_type": "markdown",
   "metadata": {},
   "source": [
    "# Wine Reviews\n",
    "\n",
    "[wine reviews](https://www.kaggle.com/zynicide/wine-reviews) 数据集下载于kaggle。它收集了共计129971条红酒的数据，记录了名称、产地、酒厂、价格、名牌、描述等信息。具体的属性如下：\n",
    "\n",
    "|字段|描述|数据类型|\n",
    "|:---:|:---:|:---:|\n",
    "|id|编号|int|\n",
    "|points|国家|string|\n",
    "|description|葡萄酒的描述|string|\n",
    "|designation|葡萄园的名称|string|\n",
    "|points|葡萄酒的得分|int|\n",
    "|price|葡萄酒的价格|int|\n",
    "|province|省 |string|\n",
    "|region_1|区域1|string|\n",
    "|region_2|区域2 |string|\n",
    "|winery|酒厂名称 |string|\n",
    "|variety|葡萄的种类|string|\n",
    "|taster_name|品酒师姓名|string|\n",
    "|taster_twitter_handle|品酒师推特账号|string|\n",
    "\n",
    "\n",
    "\n",
    "\n",
    "参考连接：[知乎-葡萄酒的SQL分析](https://zhuanlan.zhihu.com/p/59840855?from_voters_page=true)"
   ]
  },
  {
   "cell_type": "code",
   "execution_count": 1,
   "metadata": {},
   "outputs": [],
   "source": [
    "import json\n",
    "from matplotlib import pyplot as plt\n",
    "from utils import *\n",
    "\n",
    "%matplotlib inline\n",
    "%load_ext autoreload\n",
    "%autoreload 2\n",
    "# plt.rcParams['font.sans-serif'] = ['SimHei']\n",
    "# plt.rcParams['axes.unicode_minus'] = False"
   ]
  },
  {
   "cell_type": "markdown",
   "metadata": {},
   "source": [
    "### 一、数据可视化和摘要\n",
    "\n",
    "由于description属性表示品酒师对酒品的描述，每个酒的描述差异非常大。因此先不做分析。\n",
    "\n",
    "由于taster_name、taster_twitter_handle代表品酒师姓名、品酒师推特账号，它们之间具有一一对应关系，因此只分析taster_name。\n",
    "\n",
    "对于标称属性，给出每个可能取值的频数，并绘制条形统计图\n",
    "\n",
    "对于数值属性，给出它们的5数概括和缺失值个数，并绘制盒图、条形统计图"
   ]
  },
  {
   "cell_type": "code",
   "execution_count": 2,
   "metadata": {},
   "outputs": [
    {
     "name": "stdout",
     "output_type": "stream",
     "text": [
      "数据条数: 129971\n",
      "字段名: dict_keys(['points', 'title', 'description', 'taster_name', 'taster_twitter_handle', 'price', 'designation', 'variety', 'region_1', 'region_2', 'province', 'country', 'winery'])\n",
      "条目样例: {'points': '87', 'title': 'Nicosia 2013 Vulkà Bianco  (Etna)', 'description': \"Aromas include tropical fruit, broom, brimstone and dried herb. The palate isn't overly expressive, offering unripened apple, citrus and dried sage alongside brisk acidity.\", 'taster_name': 'Kerin O’Keefe', 'taster_twitter_handle': '@kerinokeefe', 'price': None, 'designation': 'Vulkà Bianco', 'variety': 'White Blend', 'region_1': 'Etna', 'region_2': None, 'province': 'Sicily & Sardinia', 'country': 'Italy', 'winery': 'Nicosia'}\n"
     ]
    }
   ],
   "source": [
    "# 读取数据\n",
    "\n",
    "# 数据集根路径\n",
    "data_path = \"C:/Users/王欣哲/Desktop/数据挖掘/数据集/Wine Reviews/\"\n",
    "data_csv = data_path + \"winemag-data-130k-v2.csv\"\n",
    "data_json = data_path + \"winemag-data-130k-v2.json\"\n",
    "\n",
    "# 读取json数据\n",
    "data = None\n",
    "with open(data_json,'r') as f:\n",
    "\tdata = json.load(f)\n",
    "\n",
    "# 数据集基本信息\n",
    "print(\"数据条数:\",len(data))\n",
    "print(\"字段名:\",data[0].keys())\n",
    "print(\"条目样例:\",data[0])\n"
   ]
  },
  {
   "cell_type": "code",
   "execution_count": 3,
   "metadata": {},
   "outputs": [],
   "source": [
    "# 数据预处理 清理None, 方便后续处理\n",
    "\n",
    "# 将None字段替换 避免潜在的Python语法错误\n",
    "meta_data = {\"points\": int, \"price\": int, \"country\": str, \"description\": str, \"designation\": str,\n",
    "\t\t\t\"province\": str,\"region_1\": str,\"region_2\": str, \"winery\": str,\t\"variety\": str,\t\n",
    "\t\t\t\"taster_name\": str,\t\"taster_twitter_handle\": str}\n",
    "for row in data:\n",
    "\tfor key in row.keys():\n",
    "\t\tif (row[key] == None) or (row[key] == \"None\"):\n",
    "\t\t\tif meta_data[key] == str:\n",
    "\t\t\t\trow[key] = \"None\"\n",
    "\t\t\telse:\n",
    "\t\t\t\trow[key] = 0\n",
    "\n",
    "# 将数值属性的变量类型转为数字\n",
    "for row in data:\n",
    "\trow['points'] = int(row['points'])\n",
    "\trow['price'] = int(row['price'])\n"
   ]
  },
  {
   "cell_type": "markdown",
   "metadata": {},
   "source": [
    "先分析 points、price 两个数值属性"
   ]
  },
  {
   "cell_type": "code",
   "execution_count": 21,
   "metadata": {},
   "outputs": [
    {
     "name": "stdout",
     "output_type": "stream",
     "text": [
      "five number:\n",
      "    min: 80\n",
      "    Q1: 86.0\n",
      "    median: 88.0\n",
      "    Q3: 91.0\n",
      "    max: 100\n"
     ]
    },
    {
     "data": {
      "image/png": "[encoded data removed]",
      "text/plain": [
       "<Figure size 432x288 with 1 Axes>"
      ]
     },
     "metadata": {
      "needs_background": "light"
     },
     "output_type": "display_data"
    },
    {
     "data": {
      "image/png": "[encoded data removed]",
      "text/plain": [
       "<Figure size 432x288 with 1 Axes>"
      ]
     },
     "metadata": {
      "needs_background": "light"
     },
     "output_type": "display_data"
    }
   ],
   "source": [
    "# points 数值属性\n",
    "points = [x['points'] for x in data]\n",
    "\n",
    "# 计算5数概括\n",
    "points_five_num = five_num(points)\n",
    "print_five_num(points_five_num)\t\t# print\n",
    "\n",
    "# 绘制盒图\n",
    "plt_box(points)\n",
    "\n",
    "# 绘制条形统计图\n",
    "plt_bar(data, \"points\")"
   ]
  },
  {
   "cell_type": "code",
   "execution_count": 23,
   "metadata": {},
   "outputs": [
    {
     "name": "stdout",
     "output_type": "stream",
     "text": [
      "five number:\n",
      "    min: 0\n",
      "    Q1: 15.0\n",
      "    median: 25.0\n",
      "    Q3: 40.0\n",
      "    max: 3300\n"
     ]
    },
    {
     "data": {
      "image/png": "[encoded data removed]",
      "text/plain": [
       "<Figure size 432x288 with 1 Axes>"
      ]
     },
     "metadata": {
      "needs_background": "light"
     },
     "output_type": "display_data"
    },
    {
     "data": {
      "image/png": "[encoded data removed]",
      "text/plain": [
       "<Figure size 432x288 with 1 Axes>"
      ]
     },
     "metadata": {
      "needs_background": "light"
     },
     "output_type": "display_data"
    }
   ],
   "source": [
    "# price 数值属性\n",
    "price = [x['price'] for x in data]\n",
    "\n",
    "# 计算5数概括\n",
    "price_five_num = five_num(price)\n",
    "print_five_num(price_five_num)\t\t# print\n",
    "\n",
    "# 绘制盒图\n",
    "plt_box(price)\n",
    "\n",
    "# 绘制条形统计图\n",
    "plt_bar(data,\"price\")"
   ]
  },
  {
   "cell_type": "code",
   "execution_count": 27,
   "metadata": {},
   "outputs": [
    {
     "name": "stdout",
     "output_type": "stream",
     "text": [
      "top 7:\n",
      "    US  54504\n",
      "    France  22093\n",
      "    Italy  19540\n",
      "    Spain  6645\n",
      "    Portugal  5691\n",
      "    Chile  4472\n",
      "    Argentina  3800\n"
     ]
    },
    {
     "data": {
      "image/png": "[encoded data removed]",
      "text/plain": [
       "<Figure size 432x288 with 1 Axes>"
      ]
     },
     "metadata": {
      "needs_background": "light"
     },
     "output_type": "display_data"
    }
   ],
   "source": [
    "# country 标称属性\n",
    "country_count = cal_count(data, \"country\")\n",
    "\n",
    "# 输出频率前7的country\n",
    "print_top_7(country_count)\n",
    "\n",
    "# 绘制条形图\n",
    "plt.title(\"Frequency of each value in country\")\n",
    "plt.bar(country_count.keys(), country_count.values())\n",
    "plt.show()\n"
   ]
  },
  {
   "cell_type": "code",
   "execution_count": 29,
   "metadata": {},
   "outputs": [
    {
     "name": "stdout",
     "output_type": "stream",
     "text": [
      "top 7:\n",
      "    California  36247\n",
      "    Washington  8639\n",
      "    Bordeaux  5941\n",
      "    Tuscany  5897\n",
      "    Oregon  5373\n",
      "    Burgundy  3980\n",
      "    Northern Spain  3851\n"
     ]
    },
    {
     "data": {
      "image/png": "[encoded data removed]",
      "text/plain": [
       "<Figure size 432x288 with 1 Axes>"
      ]
     },
     "metadata": {
      "needs_background": "light"
     },
     "output_type": "display_data"
    }
   ],
   "source": [
    "# province 标称属性\n",
    "province_count = cal_count(data, \"province\")\n",
    "\n",
    "# 输出频率前7的province\n",
    "print_top_7(province_count)\n",
    "\n",
    "# 绘制条形图\n",
    "plt.title(\"Frequency of each value in province\")\n",
    "plt.bar(province_count.keys(), province_count.values())\n",
    "plt.show()\n"
   ]
  },
  {
   "cell_type": "code",
   "execution_count": 30,
   "metadata": {},
   "outputs": [
    {
     "name": "stdout",
     "output_type": "stream",
     "text": [
      "top 7:\n",
      "    None  26244\n",
      "    Roger Voss  25514\n",
      "    Michael Schachner  15134\n",
      "    Kerin O’Keefe  10776\n",
      "    Virginie Boone  9537\n",
      "    Paul Gregutt  9532\n",
      "    Matt Kettmann  6332\n"
     ]
    },
    {
     "data": {
      "image/png": "[encoded data removed]",
      "text/plain": [
       "<Figure size 432x288 with 1 Axes>"
      ]
     },
     "metadata": {
      "needs_background": "light"
     },
     "output_type": "display_data"
    }
   ],
   "source": [
    "# taster_name 标称属性\n",
    "taster_name_count = cal_count(data, \"taster_name\")\n",
    "\n",
    "# 输出频率前7的taster_name\n",
    "print_top_7(taster_name_count)\n",
    "\n",
    "# 绘制条形图\n",
    "plt.title(\"Frequency of each value in taster_name\")\n",
    "plt.bar(taster_name_count.keys(), taster_name_count.values())\n",
    "plt.show()\n"
   ]
  },
  {
   "cell_type": "code",
   "execution_count": 31,
   "metadata": {},
   "outputs": [
    {
     "name": "stdout",
     "output_type": "stream",
     "text": [
      "top 7:\n",
      "    Wines & Winemakers  222\n",
      "    Testarossa  218\n",
      "    DFJ Vinhos  215\n",
      "    Williams Selyem  211\n",
      "    Louis Latour  199\n",
      "    Georges Duboeuf  196\n",
      "    Chateau Ste. Michelle  194\n"
     ]
    },
    {
     "data": {
      "image/png": "[encoded data removed]",
      "text/plain": [
       "<Figure size 432x288 with 1 Axes>"
      ]
     },
     "metadata": {
      "needs_background": "light"
     },
     "output_type": "display_data"
    }
   ],
   "source": [
    "# winery 标称属性\n",
    "winery_count = cal_count(data, \"winery\")\n",
    "\n",
    "# 输出频率前7的winery\n",
    "print_top_7(winery_count)\n",
    "\n",
    "# 绘制条形图\n",
    "plt.title(\"Frequency of each value in winery\")\n",
    "plt.bar(winery_count.keys(), winery_count.values())\n",
    "plt.show()\n"
   ]
  },
  {
   "cell_type": "code",
   "execution_count": 26,
   "metadata": {},
   "outputs": [
    {
     "name": "stdout",
     "output_type": "stream",
     "text": [
      "top 10: [('Pinot Noir', 13272), ('Chardonnay', 11753), ('Cabernet Sauvignon', 9472), ('Red Blend', 8946), ('Bordeaux-style Red Blend', 6915), ('Riesling', 5189), ('Sauvignon Blanc', 4967), ('Syrah', 4142), ('Rosé', 3564), ('Merlot', 3102)]\n"
     ]
    },
    {
     "data": {
      "image/png": "[encoded data removed]",
      "text/plain": [
       "<Figure size 432x288 with 1 Axes>"
      ]
     },
     "metadata": {
      "needs_background": "light"
     },
     "output_type": "display_data"
    }
   ],
   "source": [
    "# variety 标称属性\n",
    "variety_count = {}\n",
    "for row in data:\n",
    "\tif not (row[\"variety\"] in variety_count.keys()):\n",
    "\t\tvariety_count[row[\"variety\"]] = 1\n",
    "\telse:\n",
    "\t\tvariety_count[row[\"variety\"]] += 1\n",
    "\n",
    "# 输出频率前10的variety\n",
    "variety_sorted = sorted(variety_count.items(),key=lambda kv: (kv[1],kv[0]),reverse=True)\n",
    "print(\"top 7:\")\n",
    "for c in  variety_sorted[0:7]:\n",
    "\tprint(f\"    {c[0]}  {c[1]}\")\n",
    "\n",
    "# 绘制条形图\n",
    "plt.title(\"Frequency of each value in variety\")\n",
    "plt.bar(variety_count.keys(), variety_count.values())\n",
    "plt.show()"
   ]
  },
  {
   "cell_type": "markdown",
   "metadata": {},
   "source": [
    "**总结**\n",
    "在对数据的可视化和摘要过程中，比较重要的是体现出数据的整体分布情况和特点，并选用合适的图表对数据生成摘要。针对数值属性和标称属性，生成摘要的方法也各不相同。对数值属性来说，选用箱形图和条形统计图可以明了的说明数据的大致分布形态。而对于标称属性，条形统计图也能够清晰的说明各个属性取值的频率。但是对于标称属性数值取值较多的情况，选用条形统计图则可能无法明确的指出属性的取值分布情况和特点。"
   ]
  },
  {
   "cell_type": "markdown",
   "metadata": {},
   "source": [
    "### 二、数据缺失的处理\n",
    "\n",
    "在上述的分析中我们看到，部分字段存在大量的缺失数据，如price、region_1、taster_twitter_header等。产生这些数据缺失的原因也不尽相同。price字段的数据缺失出现的概率较低，这可能是由于酒品价格的偶然丢失而造成的。region_1、region_2字段出现数据缺失的概率较高，这可能是因为这两个的属性均描述酒品的产地，而除了非常出名的产地外绝大部分酒品并不需要过于详尽的产地标注，因此这两个字段出先数据缺失的概率较高。taster_twitter_hader字段也有较高的数据缺失概率，这可能是由于一些品酒师可能没有twitter账号。每一种数缺失的背后原因都不相同，不同的原因也决定了不同字段数据缺失量的大小。"
   ]
  },
  {
   "cell_type": "code",
   "execution_count": 27,
   "metadata": {},
   "outputs": [],
   "source": [
    "# 读取原始数据\n",
    "_data = None\n",
    "with open(data_json,'r') as f:\n",
    "\t_data = json.load(f)\n",
    "\n",
    "# 将数值属性转为int数，方便运算\n",
    "for row in _data:\n",
    "\trow['points'] = int(row['points'])\n",
    "\trow['price'] = int(row['price']) if row['price'] !=None else None"
   ]
  },
  {
   "cell_type": "markdown",
   "metadata": {},
   "source": [
    "#### 0、分析哪些列存在数据缺失"
   ]
  },
  {
   "cell_type": "code",
   "execution_count": 32,
   "metadata": {},
   "outputs": [
    {
     "name": "stdout",
     "output_type": "stream",
     "text": [
      "Have None:False   col:points\n",
      "Have None:False   col:title\n",
      "Have None:False   col:description\n",
      "Have None:True    col:taster_name\n",
      "Have None:True    col:taster_twitter_handle\n",
      "Have None:True    col:price\n",
      "Have None:True    col:designation\n",
      "Have None:True    col:variety\n",
      "Have None:True    col:region_1\n",
      "Have None:True    col:region_2\n",
      "Have None:True    col:province\n",
      "Have None:True    col:country\n",
      "Have None:False   col:winery\n"
     ]
    }
   ],
   "source": [
    "def find_None_col(data):\n",
    "\tfor col in data[0].keys():\n",
    "\t\thas_none = False\n",
    "\t\tfor row in data:\n",
    "\t\t\tif row[col] == None:\n",
    "\t\t\t\thas_none = True\n",
    "\t\t\t\tbreak\n",
    "\t\tif has_none:\n",
    "\t\t\tprint(f\"Have None:True    col:{col}\")\n",
    "\t\telse:\n",
    "\t\t\tprint(f\"Have None:False   col:{col}\")\n",
    "\t\t\t\n",
    "find_None_col(_data)"
   ]
  },
  {
   "cell_type": "markdown",
   "metadata": {},
   "source": [
    "#### 1、将缺失数据剔除"
   ]
  },
  {
   "cell_type": "code",
   "execution_count": 29,
   "metadata": {},
   "outputs": [
    {
     "name": "stdout",
     "output_type": "stream",
     "text": [
      "Before eliminate data len:129971\n",
      "After eliminate data len:22387\n"
     ]
    }
   ],
   "source": [
    "# 对每一个数据，若存在空属性，则将其剔除\n",
    "print(f'Before eliminate data len:{len(_data)}')\n",
    "\n",
    "data_elim = [x.copy() for x in _data]\t# deep copy\n",
    "data_elim = [x for x in data_elim if not (None in x.values())]\t\n",
    "print(f'After eliminate data len:{len(data_elim)}')\n"
   ]
  },
  {
   "cell_type": "markdown",
   "metadata": {},
   "source": [
    "#### 2、填充高频值"
   ]
  },
  {
   "cell_type": "code",
   "execution_count": 31,
   "metadata": {},
   "outputs": [
    {
     "name": "stdout",
     "output_type": "stream",
     "text": [
      "Column:points  high_freq_val:90  count:3280\n",
      "Column:title  high_freq_val:Gloria Ferrer NV Sonoma Brut Sparkling (Sonoma County)  count:6\n",
      "Column:description  high_freq_val:Seductively tart in lemon pith, cranberry and pomegranate, this refreshing, light-bodied quaff is infinitely enjoyable, both on its own or at the table. It continues to expand on the palate into an increasing array of fresh flavors, finishing in cherry and orange.  count:3\n",
      "Column:taster_name  high_freq_val:Virginie Boone  count:6422\n",
      "Column:taster_twitter_handle  high_freq_val:@vboone  count:6422\n",
      "Column:price  high_freq_val:30  count:1066\n",
      "Column:designation  high_freq_val:Estate  count:809\n",
      "Column:variety  high_freq_val:Pinot Noir  count:4788\n",
      "Column:region_1  high_freq_val:Columbia Valley (WA)  count:2488\n",
      "Column:region_2  high_freq_val:Columbia Valley  count:5532\n",
      "Column:province  high_freq_val:California  count:12900\n",
      "Column:country  high_freq_val:US  count:22387\n",
      "Column:winery  high_freq_val:Columbia Crest  count:157\n",
      "\n",
      "Have None:False   col:points\n",
      "Have None:False   col:title\n",
      "Have None:False   col:description\n",
      "Have None:False   col:taster_name\n",
      "Have None:False   col:taster_twitter_handle\n",
      "Have None:False   col:price\n",
      "Have None:False   col:designation\n",
      "Have None:False   col:variety\n",
      "Have None:False   col:region_1\n",
      "Have None:False   col:region_2\n",
      "Have None:False   col:province\n",
      "Have None:False   col:country\n",
      "Have None:False   col:winery\n"
     ]
    }
   ],
   "source": [
    "# 对每一个column，先计算高频值，再用其填充空属性\n",
    "def cal_high_freq_val(data,column):\n",
    "\tcount = {}\n",
    "\tfor row in data:\n",
    "\t\tif not (row[column] in count.keys()):\n",
    "\t\t\tcount[row[column]] = 1\n",
    "\t\telse:\n",
    "\t\t\tcount[row[column]] += 1\n",
    "\tdata_sorted = sorted(count.items(),key=lambda kv: (kv[1], kv[0]), reverse=True)\n",
    "\treturn data_sorted[0]\n",
    "\n",
    "data_fill_freq = [x.copy() for x in _data]\t# deep copy\n",
    "for col in data_fill_freq[0].keys():\n",
    "\thigh_freq_val ,count= cal_high_freq_val(data_elim, col)\n",
    "\tprint(f\"Column:{col}  high_freq_val:{high_freq_val}  count:{count}\")\n",
    "\tfor row in data_fill_freq:\n",
    "\t\tif row[col] == None:\n",
    "\t\t\trow[col] = high_freq_val\n",
    "print()\n",
    "\n",
    "find_None_col(data_fill_freq)\n"
   ]
  },
  {
   "cell_type": "markdown",
   "metadata": {},
   "source": [
    "#### 3、通过属性的相关关系来填补缺失值\n",
    "\n",
    "针对不同列之间的相关关系特点，采用不同的方式对缺失值进行填充。"
   ]
  },
  {
   "cell_type": "code",
   "execution_count": 33,
   "metadata": {},
   "outputs": [
    {
     "name": "stdout",
     "output_type": "stream",
     "text": [
      "Have None:False   col:points\n",
      "Have None:False   col:title\n",
      "Have None:False   col:description\n",
      "Have None:True    col:taster_name\n",
      "Have None:True    col:taster_twitter_handle\n",
      "Have None:True    col:price\n",
      "Have None:True    col:designation\n",
      "Have None:True    col:variety\n",
      "Have None:True    col:region_1\n",
      "Have None:True    col:region_2\n",
      "Have None:True    col:province\n",
      "Have None:True    col:country\n",
      "Have None:False   col:winery\n"
     ]
    }
   ],
   "source": [
    "def find_row_by_col_val(_data,col,val):\n",
    "\tfor row in _data:\n",
    "\t\tif row[col] == val:\n",
    "\t\t\treturn row\n",
    "\n",
    "# taster_name、taster_twitter_handle之间是一一对应关系\n",
    "data_fill_attr_relation = [x.copy() for x in _data]\t# deep copy\n",
    "for row in data_fill_attr_relation:\n",
    "\tif row['taster_name'] == None:\n",
    "\t\tif row['taster_twitter_handle'] == None:\n",
    "\t\t\t# all None continue\n",
    "\t\t\tpass\n",
    "\t\telse:\n",
    "\t\t\trow['taster_name'] = find_row_by_col_val(data_fill_attr_relation, \"taster_twitter_handle\", row['taster_twitter_handle'])['taster_name']\n",
    "\telse:\n",
    "\t\tif row['taster_twitter_handle'] == None:\n",
    "\t\t\trow['taster_twitter_handle'] = find_row_by_col_val(data_fill_attr_relation, \"taster_name\", row['taster_name'])['taster_twitter_handle']\n",
    "\t\telse:\n",
    "\t\t\t# all Nont None continue\n",
    "\t\t\tpass\n",
    "find_None_col(data_fill_attr_relation)"
   ]
  },
  {
   "cell_type": "code",
   "execution_count": 36,
   "metadata": {},
   "outputs": [
    {
     "name": "stdout",
     "output_type": "stream",
     "text": [
      "Have None:False   col:points\n",
      "Have None:False   col:title\n",
      "Have None:False   col:description\n",
      "Have None:True    col:taster_name\n",
      "Have None:True    col:taster_twitter_handle\n",
      "Have None:False   col:price\n",
      "Have None:True    col:designation\n",
      "Have None:True    col:variety\n",
      "Have None:True    col:region_1\n",
      "Have None:True    col:region_2\n",
      "Have None:True    col:province\n",
      "Have None:True    col:country\n",
      "Have None:False   col:winery\n"
     ]
    }
   ],
   "source": [
    "# price、points之间应存在较强相关关系  \n",
    "# 这里的运行速度较慢，可以考虑对算法进行优化\n",
    "points_price_dick = {}\n",
    "for row in data_fill_attr_relation:\n",
    "\tif row['price'] == None:\n",
    "\t\tres = 0\n",
    "\t\tcnt = 0\n",
    "\t\tif row['points'] in points_price_dick.keys():\n",
    "\t\t\trow['price'] = points_price_dick[row['points']]\n",
    "\t\telse:\n",
    "\t\t\tfor _row in _data:\n",
    "\t\t\t\tif _row['points'] == row['points'] :\n",
    "\t\t\t\t\tif _row['price'] !=None:\n",
    "\t\t\t\t\t\tres += int(_row['price'])\n",
    "\t\t\t\t\t\tcnt+=1\n",
    "\t\t\tif cnt != 0:\n",
    "\t\t\t\trow['price'] = int(res/cnt)\n",
    "\t\t\t\tpoints_price_dick[row['points']] = row['price']\n",
    "\t\t\telse:\n",
    "\t\t\t\tpoints_price_dick[row['points']] = None\n",
    "\n",
    "\n",
    "find_None_col(data_fill_attr_relation)"
   ]
  },
  {
   "cell_type": "code",
   "execution_count": 38,
   "metadata": {},
   "outputs": [
    {
     "name": "stdout",
     "output_type": "stream",
     "text": [
      "Before eliminate data len:129971\n",
      "After eliminate data len:22524\n"
     ]
    }
   ],
   "source": [
    "# 对填充后仍然缺失的属性，采用直接剔除的办法进行处理\n",
    "print(f'Before eliminate data len:{len(_data)}')\n",
    "data_fill_attr_relation = [x for x in data_fill_attr_relation if not (None in x.values())]\n",
    "print(f'After eliminate data len:{len(data_fill_attr_relation)}')"
   ]
  },
  {
   "cell_type": "markdown",
   "metadata": {},
   "source": [
    "#### 4、通过数据对象之间的相似性来填补缺失值\n",
    "\n",
    "本方法重点在于评估对象间相似性的方法。对于存在缺失值的对象，寻找与其最相似的对象，并根据找的对象的属性信息，对缺失值进行填充。"
   ]
  },
  {
   "cell_type": "code",
   "execution_count": 40,
   "metadata": {},
   "outputs": [
    {
     "ename": "KeyboardInterrupt",
     "evalue": "",
     "output_type": "error",
     "traceback": [
      "\u001b[1;31m---------------------------------------------------------------------------\u001b[0m",
      "\u001b[1;31mKeyboardInterrupt\u001b[0m                         Traceback (most recent call last)",
      "\u001b[1;32m<ipython-input-40-e03023200861>\u001b[0m in \u001b[0;36m<module>\u001b[1;34m\u001b[0m\n\u001b[0;32m     29\u001b[0m \u001b[1;32mfor\u001b[0m \u001b[0mrow\u001b[0m \u001b[1;32min\u001b[0m \u001b[0mdata_fill_obj_similarity\u001b[0m\u001b[1;33m:\u001b[0m\u001b[1;33m\u001b[0m\u001b[1;33m\u001b[0m\u001b[0m\n\u001b[0;32m     30\u001b[0m         \u001b[1;32mif\u001b[0m \u001b[1;32mNone\u001b[0m \u001b[1;32min\u001b[0m \u001b[0mrow\u001b[0m\u001b[1;33m.\u001b[0m\u001b[0mvalues\u001b[0m\u001b[1;33m(\u001b[0m\u001b[1;33m)\u001b[0m\u001b[1;33m:\u001b[0m\u001b[1;33m\u001b[0m\u001b[1;33m\u001b[0m\u001b[0m\n\u001b[1;32m---> 31\u001b[1;33m                 \u001b[0mmin_dist_row\u001b[0m \u001b[1;33m=\u001b[0m \u001b[0mfind_min_dist_row\u001b[0m\u001b[1;33m(\u001b[0m\u001b[0mdata_fill_obj_similarity\u001b[0m\u001b[1;33m,\u001b[0m \u001b[0mrow\u001b[0m\u001b[1;33m)\u001b[0m\u001b[1;33m\u001b[0m\u001b[1;33m\u001b[0m\u001b[0m\n\u001b[0m\u001b[0;32m     32\u001b[0m                 \u001b[1;32mfor\u001b[0m \u001b[0mk\u001b[0m \u001b[1;32min\u001b[0m \u001b[0mrow\u001b[0m\u001b[1;33m.\u001b[0m\u001b[0mkeys\u001b[0m\u001b[1;33m(\u001b[0m\u001b[1;33m)\u001b[0m\u001b[1;33m:\u001b[0m\u001b[1;33m\u001b[0m\u001b[1;33m\u001b[0m\u001b[0m\n\u001b[0;32m     33\u001b[0m                         \u001b[1;32mif\u001b[0m \u001b[0mrow\u001b[0m\u001b[1;33m[\u001b[0m\u001b[0mk\u001b[0m\u001b[1;33m]\u001b[0m \u001b[1;33m==\u001b[0m \u001b[1;32mNone\u001b[0m\u001b[1;33m:\u001b[0m\u001b[1;33m\u001b[0m\u001b[1;33m\u001b[0m\u001b[0m\n",
      "\u001b[1;32m<ipython-input-40-e03023200861>\u001b[0m in \u001b[0;36mfind_min_dist_row\u001b[1;34m(data, row)\u001b[0m\n\u001b[0;32m     20\u001b[0m         \u001b[0mres\u001b[0m \u001b[1;33m=\u001b[0m \u001b[1;32mNone\u001b[0m\u001b[1;33m\u001b[0m\u001b[1;33m\u001b[0m\u001b[0m\n\u001b[0;32m     21\u001b[0m         \u001b[1;32mfor\u001b[0m \u001b[0m_row\u001b[0m \u001b[1;32min\u001b[0m \u001b[0mdata\u001b[0m\u001b[1;33m:\u001b[0m\u001b[1;33m\u001b[0m\u001b[1;33m\u001b[0m\u001b[0m\n\u001b[1;32m---> 22\u001b[1;33m                 \u001b[0mdist\u001b[0m \u001b[1;33m=\u001b[0m \u001b[0mcal_distance\u001b[0m\u001b[1;33m(\u001b[0m\u001b[0m_row\u001b[0m\u001b[1;33m,\u001b[0m \u001b[0mrow\u001b[0m\u001b[1;33m)\u001b[0m\u001b[1;33m\u001b[0m\u001b[1;33m\u001b[0m\u001b[0m\n\u001b[0m\u001b[0;32m     23\u001b[0m                 \u001b[1;32mif\u001b[0m \u001b[0mdist\u001b[0m \u001b[1;33m<\u001b[0m \u001b[0mmin_dist\u001b[0m\u001b[1;33m:\u001b[0m\u001b[1;33m\u001b[0m\u001b[1;33m\u001b[0m\u001b[0m\n\u001b[0;32m     24\u001b[0m                         \u001b[0mmin_dist\u001b[0m \u001b[1;33m=\u001b[0m \u001b[0mdist\u001b[0m\u001b[1;33m\u001b[0m\u001b[1;33m\u001b[0m\u001b[0m\n",
      "\u001b[1;32m<ipython-input-40-e03023200861>\u001b[0m in \u001b[0;36mcal_distance\u001b[1;34m(row1, row2)\u001b[0m\n\u001b[0;32m     11\u001b[0m         \u001b[0mnominal_dist\u001b[0m \u001b[1;33m=\u001b[0m \u001b[1;36m0\u001b[0m\u001b[1;33m\u001b[0m\u001b[1;33m\u001b[0m\u001b[0m\n\u001b[0;32m     12\u001b[0m         \u001b[1;32mfor\u001b[0m \u001b[0mcol\u001b[0m \u001b[1;32min\u001b[0m \u001b[0mnominal\u001b[0m\u001b[1;33m:\u001b[0m\u001b[1;33m\u001b[0m\u001b[1;33m\u001b[0m\u001b[0m\n\u001b[1;32m---> 13\u001b[1;33m                 \u001b[1;32mif\u001b[0m \u001b[1;33m(\u001b[0m\u001b[0mrow1\u001b[0m\u001b[1;33m[\u001b[0m\u001b[0mcol\u001b[0m\u001b[1;33m]\u001b[0m \u001b[1;33m!=\u001b[0m\u001b[1;32mNone\u001b[0m\u001b[1;33m)\u001b[0m \u001b[1;32mand\u001b[0m \u001b[1;33m(\u001b[0m\u001b[0mrow2\u001b[0m\u001b[1;33m[\u001b[0m\u001b[0mcol\u001b[0m\u001b[1;33m]\u001b[0m \u001b[1;33m!=\u001b[0m \u001b[1;32mNone\u001b[0m\u001b[1;33m)\u001b[0m\u001b[1;33m:\u001b[0m\u001b[1;33m\u001b[0m\u001b[1;33m\u001b[0m\u001b[0m\n\u001b[0m\u001b[0;32m     14\u001b[0m                         \u001b[1;32mif\u001b[0m \u001b[0mrow1\u001b[0m\u001b[1;33m[\u001b[0m\u001b[0mcol\u001b[0m\u001b[1;33m]\u001b[0m \u001b[1;33m!=\u001b[0m \u001b[0mrow2\u001b[0m\u001b[1;33m[\u001b[0m\u001b[0mcol\u001b[0m\u001b[1;33m]\u001b[0m\u001b[1;33m:\u001b[0m\u001b[1;33m\u001b[0m\u001b[1;33m\u001b[0m\u001b[0m\n\u001b[0;32m     15\u001b[0m                                 \u001b[0mnominal_dist\u001b[0m \u001b[1;33m+=\u001b[0m \u001b[1;36m1\u001b[0m\u001b[1;33m\u001b[0m\u001b[1;33m\u001b[0m\u001b[0m\n",
      "\u001b[1;31mKeyboardInterrupt\u001b[0m: "
     ]
    }
   ],
   "source": [
    "# 由于需要进行大量的对象间距离计算，因此本方法的时间复杂度较高。\n",
    "# 可以进一步考虑优化的策略\n",
    "numeric = ['price', 'points']\n",
    "nominal = [ 'title', 'description', 'taster_name', \n",
    "\t\t\t'taster_twitter_handle',  'designation', \n",
    "\t\t\t'variety', 'region_1', 'region_2', 'province', \n",
    "\t\t\t'country', 'winery']\n",
    "def cal_distance(row1,row2):\n",
    "\tnumeric_dist = 0\n",
    "\tfor col in numeric:\n",
    "\t\tif (row1[col] !=None) and (row2[col] != None):\n",
    "\t\t\tnumeric_dist += abs(int(row1[col])-int(row2[col]))\n",
    "\tnominal_dist = 0\n",
    "\tfor col in nominal:\n",
    "\t\tif (row1[col] !=None) and (row2[col] != None):\n",
    "\t\t\tif row1[col] != row2[col]:\n",
    "\t\t\t\tnominal_dist += 1\n",
    "\treturn numeric_dist + nominal_dist\n",
    "\n",
    "def find_min_dist_row(data,row):\n",
    "\tmin_dist = 999999999\n",
    "\tres = None\n",
    "\tfor _row in data:\n",
    "\t\tdist = cal_distance(_row, row)\n",
    "\t\tif dist < min_dist:\n",
    "\t\t\tmin_dist = dist\n",
    "\t\t\tres = _row\n",
    "\treturn res\n",
    "\n",
    "data_fill_obj_similarity = _data.copy()\n",
    "for row in data_fill_obj_similarity:\n",
    "\tif None in row.values():\n",
    "\t\tmin_dist_row = find_min_dist_row(data_fill_obj_similarity, row)\n",
    "\t\tfor k in row.keys():\n",
    "\t\t\tif row[k] == None:\n",
    "\t\t\t\trow[k] = min_dist_row[k]\n",
    "find_None_col(data_fill_attr_relation)"
   ]
  },
  {
   "cell_type": "markdown",
   "metadata": {},
   "source": [
    "#### 5、新旧数据集可视化对比\n",
    "\n",
    "由于可对比的属性较多，因此选择几个具有代表性的标称属性、数值属性进行对比。"
   ]
  },
  {
   "cell_type": "code",
   "execution_count": 45,
   "metadata": {},
   "outputs": [
    {
     "name": "stdout",
     "output_type": "stream",
     "text": [
      "Eliminate:\n",
      "five number:\n",
      "    min: 80\n",
      "    Q1: 88.0\n",
      "    median: 90.0\n",
      "    Q3: 92.0\n",
      "    max: 100\n"
     ]
    },
    {
     "data": {
      "image/png": "[encoded data removed]",
      "text/plain": [
       "<Figure size 432x288 with 1 Axes>"
      ]
     },
     "metadata": {
      "needs_background": "light"
     },
     "output_type": "display_data"
    },
    {
     "data": {
      "image/png": "[encoded data removed]",
      "text/plain": [
       "<Figure size 432x288 with 1 Axes>"
      ]
     },
     "metadata": {
      "needs_background": "light"
     },
     "output_type": "display_data"
    },
    {
     "name": "stdout",
     "output_type": "stream",
     "text": [
      "-------------------------\n",
      "Fill Freq:\n",
      "five number:\n",
      "    min: 80\n",
      "    Q1: 86.0\n",
      "    median: 88.0\n",
      "    Q3: 91.0\n",
      "    max: 100\n"
     ]
    },
    {
     "data": {
      "image/png": "[encoded data removed]",
      "text/plain": [
       "<Figure size 432x288 with 1 Axes>"
      ]
     },
     "metadata": {
      "needs_background": "light"
     },
     "output_type": "display_data"
    },
    {
     "data": {
      "image/png": "[encoded data removed]",
      "text/plain": [
       "<Figure size 432x288 with 1 Axes>"
      ]
     },
     "metadata": {
      "needs_background": "light"
     },
     "output_type": "display_data"
    },
    {
     "name": "stdout",
     "output_type": "stream",
     "text": [
      "-------------------------\n",
      "Attr Relation\n",
      "five number:\n",
      "    min: 80\n",
      "    Q1: 88.0\n",
      "    median: 90.0\n",
      "    Q3: 92.0\n",
      "    max: 100\n"
     ]
    },
    {
     "data": {
      "image/png": "[encoded data removed]",
      "text/plain": [
       "<Figure size 432x288 with 1 Axes>"
      ]
     },
     "metadata": {
      "needs_background": "light"
     },
     "output_type": "display_data"
    },
    {
     "data": {
      "image/png": "[encoded data removed]",
      "text/plain": [
       "<Figure size 432x288 with 1 Axes>"
      ]
     },
     "metadata": {
      "needs_background": "light"
     },
     "output_type": "display_data"
    }
   ],
   "source": [
    "# points对比\n",
    "def compare_points(data):\n",
    "\tpoints = [x['points'] for x in data]\n",
    "\t# 计算5数概括\n",
    "\tpoints_five_num = five_num(points)\n",
    "\tprint_five_num(points_five_num)\t\t# print\n",
    "\n",
    "\t# 绘制盒图\n",
    "\tplt_box(points)\n",
    "\n",
    "\t# 绘制条形统计图\n",
    "\tplt_bar(data,\"points\")\n",
    "\n",
    "print(\"Eliminate:\")\n",
    "compare_points(data_elim)\n",
    "print(\"-------------------------\")\n",
    "print(\"Fill Freq:\")\n",
    "compare_points(data_fill_freq)\n",
    "print(\"-------------------------\")\n",
    "print(\"Attr Relation\")\n",
    "compare_points(data_fill_attr_relation)\n",
    "# print(\"-------------------------\")\n",
    "# print(\"Object Relation:\")\n",
    "# compare_points(data_fill_obj_similarity)\n",
    "# print(\"-------------------------\")\n"
   ]
  },
  {
   "cell_type": "code",
   "execution_count": 48,
   "metadata": {},
   "outputs": [
    {
     "name": "stdout",
     "output_type": "stream",
     "text": [
      "Eliminate:\n",
      "five number:\n",
      "    min: 4\n",
      "    Q1: 25.0\n",
      "    median: 36.0\n",
      "    Q3: 50.0\n",
      "    max: 2013\n"
     ]
    },
    {
     "data": {
      "image/png": "[encoded data removed]",
      "text/plain": [
       "<Figure size 432x288 with 1 Axes>"
      ]
     },
     "metadata": {
      "needs_background": "light"
     },
     "output_type": "display_data"
    },
    {
     "data": {
      "image/png": "[encoded data removed]",
      "text/plain": [
       "<Figure size 432x288 with 1 Axes>"
      ]
     },
     "metadata": {
      "needs_background": "light"
     },
     "output_type": "display_data"
    },
    {
     "name": "stdout",
     "output_type": "stream",
     "text": [
      "-------------------------\n",
      "Fill Freq:\n",
      "five number:\n",
      "    min: 4\n",
      "    Q1: 18.0\n",
      "    median: 28.0\n",
      "    Q3: 40.0\n",
      "    max: 3300\n"
     ]
    },
    {
     "data": {
      "image/png": "[encoded data removed]",
      "text/plain": [
       "<Figure size 432x288 with 1 Axes>"
      ]
     },
     "metadata": {
      "needs_background": "light"
     },
     "output_type": "display_data"
    },
    {
     "data": {
      "image/png": "[encoded data removed]",
      "text/plain": [
       "<Figure size 432x288 with 1 Axes>"
      ]
     },
     "metadata": {
      "needs_background": "light"
     },
     "output_type": "display_data"
    },
    {
     "name": "stdout",
     "output_type": "stream",
     "text": [
      "-------------------------\n",
      "Attr Relation\n",
      "five number:\n",
      "    min: 4\n",
      "    Q1: 25.0\n",
      "    median: 36.0\n",
      "    Q3: 50.0\n",
      "    max: 2013\n"
     ]
    },
    {
     "data": {
      "image/png": "[encoded data removed]",
      "text/plain": [
       "<Figure size 432x288 with 1 Axes>"
      ]
     },
     "metadata": {
      "needs_background": "light"
     },
     "output_type": "display_data"
    },
    {
     "data": {
      "image/png": "[encoded data removed]",
      "text/plain": [
       "<Figure size 432x288 with 1 Axes>"
      ]
     },
     "metadata": {
      "needs_background": "light"
     },
     "output_type": "display_data"
    }
   ],
   "source": [
    "# prise对比\n",
    "def compare_price(data):\n",
    "\tprice = [x['price'] for x in data]\n",
    "\t# 计算5数概括\n",
    "\tprise_five_num = five_num(price)\n",
    "\tprint_five_num(prise_five_num)\t\t# print\n",
    "\n",
    "\t# 绘制盒图\n",
    "\tplt_box(price)\n",
    "\n",
    "\t# 绘制条形统计图\n",
    "\tplt_bar(data,\"price\")\n",
    "\n",
    "print(\"Eliminate:\")\n",
    "compare_price(data_elim)\n",
    "print(\"-------------------------\")\n",
    "print(\"Fill Freq:\")\n",
    "compare_price(data_fill_freq)\n",
    "print(\"-------------------------\")\n",
    "print(\"Attr Relation\")\n",
    "compare_price(data_fill_attr_relation)\n",
    "# print(\"-------------------------\")\n",
    "# print(\"Object Relation:\")\n",
    "# compare_price(data_fill_obj_similarity)\n",
    "# print(\"-------------------------\")\n"
   ]
  },
  {
   "cell_type": "code",
   "execution_count": 49,
   "metadata": {},
   "outputs": [
    {
     "name": "stdout",
     "output_type": "stream",
     "text": [
      "Eliminate:\n",
      "top 7:\n",
      "    US  22387\n"
     ]
    },
    {
     "data": {
      "image/png": "[encoded data removed]",
      "text/plain": [
       "<Figure size 432x288 with 1 Axes>"
      ]
     },
     "metadata": {
      "needs_background": "light"
     },
     "output_type": "display_data"
    },
    {
     "name": "stdout",
     "output_type": "stream",
     "text": [
      "-------------------------\n",
      "Fill Freq:\n",
      "top 7:\n",
      "    US  54567\n",
      "    France  22093\n",
      "    Italy  19540\n",
      "    Spain  6645\n",
      "    Portugal  5691\n",
      "    Chile  4472\n",
      "    Argentina  3800\n"
     ]
    },
    {
     "data": {
      "image/png": "[encoded data removed]",
      "text/plain": [
       "<Figure size 432x288 with 1 Axes>"
      ]
     },
     "metadata": {
      "needs_background": "light"
     },
     "output_type": "display_data"
    },
    {
     "name": "stdout",
     "output_type": "stream",
     "text": [
      "-------------------------\n",
      "Attr Relation\n",
      "top 7:\n",
      "    US  22524\n"
     ]
    },
    {
     "data": {
      "image/png": "[encoded data removed]",
      "text/plain": [
       "<Figure size 432x288 with 1 Axes>"
      ]
     },
     "metadata": {
      "needs_background": "light"
     },
     "output_type": "display_data"
    }
   ],
   "source": [
    "# country对比 标称属性\n",
    "def compare_country(data):\n",
    "\tcountry_count = cal_count(data, \"country\")\n",
    "\t# 输出频率前7的country\n",
    "\tprint_top_7(country_count)\n",
    "\t# 绘制条形图\n",
    "\tplt.title(\"Frequency of each value in country\")\n",
    "\tplt.bar(country_count.keys(), country_count.values())\n",
    "\tplt.show()\n",
    "\n",
    "\n",
    "print(\"Eliminate:\")\n",
    "compare_country(data_elim)\n",
    "print(\"-------------------------\")\n",
    "print(\"Fill Freq:\")\n",
    "compare_country(data_fill_freq)\n",
    "print(\"-------------------------\")\n",
    "print(\"Attr Relation\")\n",
    "compare_country(data_fill_attr_relation)\n",
    "# print(\"-------------------------\")\n",
    "# print(\"Object Relation:\")\n",
    "# compare_country(data_fill_obj_similarity)\n",
    "# print(\"-------------------------\")\n"
   ]
  },
  {
   "cell_type": "code",
   "execution_count": 50,
   "metadata": {},
   "outputs": [
    {
     "name": "stdout",
     "output_type": "stream",
     "text": [
      "Eliminate:\n",
      "top 7:\n",
      "    Virginie Boone  6422\n",
      "    Paul Gregutt  5989\n",
      "    Matt Kettmann  4479\n",
      "    Sean P. Sullivan  3357\n",
      "    Jim Gordon  1915\n",
      "    Susan Kostrzewa  97\n",
      "    Joe Czerwinski  69\n"
     ]
    },
    {
     "data": {
      "image/png": "[encoded data removed]",
      "text/plain": [
       "<Figure size 432x288 with 1 Axes>"
      ]
     },
     "metadata": {
      "needs_background": "light"
     },
     "output_type": "display_data"
    },
    {
     "name": "stdout",
     "output_type": "stream",
     "text": [
      "-------------------------\n",
      "Fill Freq:\n",
      "top 7:\n",
      "    Virginie Boone  35781\n",
      "    Roger Voss  25514\n",
      "    Michael Schachner  15134\n",
      "    Kerin O’Keefe  10776\n",
      "    Paul Gregutt  9532\n",
      "    Matt Kettmann  6332\n",
      "    Joe Czerwinski  5147\n"
     ]
    },
    {
     "data": {
      "image/png": "[encoded data removed]",
      "text/plain": [
       "<Figure size 432x288 with 1 Axes>"
      ]
     },
     "metadata": {
      "needs_background": "light"
     },
     "output_type": "display_data"
    },
    {
     "name": "stdout",
     "output_type": "stream",
     "text": [
      "-------------------------\n",
      "Attr Relation\n",
      "top 7:\n",
      "    Virginie Boone  6447\n",
      "    Paul Gregutt  6009\n",
      "    Matt Kettmann  4536\n",
      "    Sean P. Sullivan  3389\n",
      "    Jim Gordon  1918\n",
      "    Susan Kostrzewa  97\n",
      "    Joe Czerwinski  69\n"
     ]
    },
    {
     "data": {
      "image/png": "[encoded data removed]",
      "text/plain": [
       "<Figure size 432x288 with 1 Axes>"
      ]
     },
     "metadata": {
      "needs_background": "light"
     },
     "output_type": "display_data"
    }
   ],
   "source": [
    "# taster_name对比 标称属性\n",
    "def compare_taster_name(data):\n",
    "\ttaster_name_count = cal_count(data, \"taster_name\")\n",
    "\t# 输出频率前7的taster_name\n",
    "\tprint_top_7(taster_name_count)\n",
    "\t# 绘制条形图\n",
    "\tplt.title(\"Frequency of each value in taster_name\")\n",
    "\tplt.bar(taster_name_count.keys(), taster_name_count.values())\n",
    "\tplt.show()\n",
    "\n",
    "\n",
    "print(\"Eliminate:\")\n",
    "compare_taster_name(data_elim)\n",
    "print(\"-------------------------\")\n",
    "print(\"Fill Freq:\")\n",
    "compare_taster_name(data_fill_freq)\n",
    "print(\"-------------------------\")\n",
    "print(\"Attr Relation\")\n",
    "compare_taster_name(data_fill_attr_relation)\n",
    "# print(\"-------------------------\")\n",
    "# print(\"Object Relation:\")\n",
    "# compare_taster_name(data_fill_obj_similarity)\n",
    "# print(\"-------------------------\")\n"
   ]
  },
  {
   "cell_type": "markdown",
   "metadata": {},
   "source": [
    "**总结**\n",
    "我们使用四种方法，对缺失数据进行处理，并进行了横向对比分析，以明确各类缺失数据处理方法的特点和优劣。对于直接剔除缺失部分的方法，虽然较为简单但是在缺失数值较多的情况下，剔除数据可能会造成数据数值失真的情况出现。对于高频值填补的方法，计算复杂度稍高，但是不会影响属性的均值统计量。同时使用高频值填充无法充分考虑对象间的相关性。对于属性相关关系填充的方法，适用于属性间相关关系明确的属性缺失值填充。这需要数据分析者预先设定并明确属性间的相关关系。对于相关关系不明确的，可以借用协方差等工具进行相关性分析，以确定缺失值。但是此方法也可能存在比较大的误差。对于通过数据对象间的相似性填充缺失值的方法，此方法对缺失值的填充应比较准确，但是需要遍历所有数据对象，以找到最接近的对象，因此时间复杂度非常大。在实验过程中，此方法没有在有限的时间(30min)内得到正确的结果。"
   ]
  }
 ],
 "metadata": {
  "interpreter": {
   "hash": "a8f61be024eba58adef938c9aa1e29e02cb3dece83a5348b1a2dafd16a070453"
  },
  "kernelspec": {
   "display_name": "Python 3.8.8 ('base')",
   "language": "python",
   "name": "python3"
  },
  "language_info": {
   "codemirror_mode": {
    "name": "ipython",
    "version": 3
   },
   "file_extension": ".py",
   "mimetype": "text/x-python",
   "name": "python",
   "nbconvert_exporter": "python",
   "pygments_lexer": "ipython3",
   "version": "3.8.8"
  },
  "orig_nbformat": 4
 },
 "nbformat": 4,
 "nbformat_minor": 2
}
