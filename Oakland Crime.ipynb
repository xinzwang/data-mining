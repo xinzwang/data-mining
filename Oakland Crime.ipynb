{
 "cells": [
  {
   "cell_type": "markdown",
   "metadata": {},
   "source": [
    "## 一、数据可视化和摘要\n",
    "\n",
    "对于标称属性，给出每个可能取值的频数，并绘制条形统计图\n",
    "\n",
    "对于数值属性，给出它们的5数概括和缺失值个数，并绘制盒图、条形统计图"
   ]
  },
  {
   "cell_type": "code",
   "execution_count": 7,
   "metadata": {},
   "outputs": [
    {
     "name": "stdout",
     "output_type": "stream",
     "text": [
      "The autoreload extension is already loaded. To reload it, use:\n",
      "  %reload_ext autoreload\n"
     ]
    }
   ],
   "source": [
    "import csv\n",
    "import datetime\n",
    "from matplotlib import pyplot as plt\n",
    "from utils import *\n",
    "\n",
    "%matplotlib inline\n",
    "%load_ext autoreload\n",
    "%autoreload 2\n",
    "# plt.rcParams['font.sans-serif'] = ['SimHei']\n",
    "# plt.rcParams['axes.unicode_minus'] = False"
   ]
  },
  {
   "cell_type": "markdown",
   "metadata": {},
   "source": [
    "## 一、数据可视化和摘要\n"
   ]
  },
  {
   "cell_type": "code",
   "execution_count": 4,
   "metadata": {},
   "outputs": [
    {
     "name": "stdout",
     "output_type": "stream",
     "text": [
      "数据条数: 110827\n",
      "字段名: ['Agency', 'Create Time', 'Location', 'Area Id', 'Beat', 'Priority', 'Incident Type Id', 'Incident Type Description', 'Event Number', 'Closed Time']\n",
      "条目样例: ['OP', '2016-01-01T00:00:57.000', ' ST&MARKET ST    ', 'P1', '05X', '2', '415GS', '415 GUNSHOTS', 'LOP160101000003', '2016-01-01T00:32:30.000']\n"
     ]
    }
   ],
   "source": [
    "# 读取数据\n",
    "\n",
    "# 数据集根路径\n",
    "data_path = \"C:/Users/王欣哲/Desktop/数据挖掘/数据集/Oakland Crime Statistics 2011 to 2016/\"\n",
    "data_json = data_path + \"records-for-2016.csv\"\n",
    "\n",
    "# 读取json数据\n",
    "keys = None\n",
    "data = []\n",
    "with open(data_json,'r') as f:\n",
    "\treader= csv.reader(f)\n",
    "\tfor row in reader:\n",
    "\t\tif reader.line_num == 1:\n",
    "\t\t\tkeys = row\n",
    "\t\t\tcontinue\n",
    "\t\tdata.append(row)\n",
    "del data[-1]\n",
    "\n",
    "# 数据集基本信息\n",
    "print(\"数据条数:\",len(data))\n",
    "print(\"字段名:\",keys)\n",
    "print(\"条目样例:\",data[0])\n"
   ]
  },
  {
   "cell_type": "code",
   "execution_count": 5,
   "metadata": {},
   "outputs": [
    {
     "name": "stdout",
     "output_type": "stream",
     "text": [
      "Have None:False   col:Agency\n",
      "Have None:False   col:Create Time\n",
      "Have None:False   col:Location\n",
      "Have None:False   col:Area Id\n",
      "Have None:True    col:Beat\n",
      "Have None:False   col:Priority\n",
      "Have None:False   col:Incident Type Id\n",
      "Have None:False   col:Incident Type Description\n",
      "Have None:False   col:Event Number\n",
      "Have None:False   col:Closed Time\n"
     ]
    }
   ],
   "source": [
    "# 检查属性缺失值\n",
    "for i,key in enumerate(keys):\n",
    "\thas_none = False\n",
    "\tfor j,row in enumerate(data):\n",
    "\t\tif (row[i] == None) or (row[i] == \"\"):\n",
    "\t\t\thas_none = True\n",
    "\t\t\tbreak\n",
    "\tif has_none:\n",
    "\t\tprint(f\"Have None:True    col:{key}\")\n",
    "\telse:\n",
    "\t\tprint(f\"Have None:False   col:{key}\")"
   ]
  },
  {
   "cell_type": "markdown",
   "metadata": {},
   "source": [
    "从上面的分析知道，数据集中仅Beat属性存在空值"
   ]
  },
  {
   "cell_type": "markdown",
   "metadata": {},
   "source": [
    "Agency"
   ]
  },
  {
   "cell_type": "code",
   "execution_count": 15,
   "metadata": {},
   "outputs": [
    {
     "name": "stdout",
     "output_type": "stream",
     "text": [
      "Agency value: ['OP']\n"
     ]
    }
   ],
   "source": [
    "agency_val = []\n",
    "for row in data:\n",
    "\tif not (row[0] in agency_val):\n",
    "\t\tagency_val.append(row[0])\n",
    "print(\"Agency value:\",agency_val)"
   ]
  },
  {
   "cell_type": "markdown",
   "metadata": {},
   "source": [
    "Create Time"
   ]
  },
  {
   "cell_type": "code",
   "execution_count": 16,
   "metadata": {},
   "outputs": [
    {
     "data": {
      "image/png": "[encoded data removed]",
      "text/plain": [
       "<Figure size 432x288 with 1 Axes>"
      ]
     },
     "metadata": {
      "needs_background": "light"
     },
     "output_type": "display_data"
    }
   ],
   "source": [
    "create_time = [datetime.datetime.strptime(x[1], '%Y-%m-%dT%H:%M:%S.000') for x in data]\n",
    "\n",
    "plt.title(\"Create Time\")\n",
    "plt.hist(create_time, 50)\n",
    "plt.show()"
   ]
  },
  {
   "cell_type": "markdown",
   "metadata": {},
   "source": [
    "Location\n",
    "\n",
    "从下图可以看到，各个地区的数量分布较为均匀，呈现长尾分布的特点。"
   ]
  },
  {
   "cell_type": "code",
   "execution_count": 33,
   "metadata": {},
   "outputs": [
    {
     "name": "stdout",
     "output_type": "stream",
     "text": [
      "Locations: 24046\n"
     ]
    },
    {
     "data": {
      "image/png": "[encoded data removed]",
      "text/plain": [
       "<Figure size 432x288 with 1 Axes>"
      ]
     },
     "metadata": {
      "needs_background": "light"
     },
     "output_type": "display_data"
    }
   ],
   "source": [
    "location_count = {}\n",
    "for row in data:\n",
    "\tif row[2] in location_count.keys():\n",
    "\t\tlocation_count[row[2]] +=1\n",
    "\telse:\n",
    "\t\tlocation_count[row[2]] =1\n",
    "\n",
    "location_count_sorted = sorted(location_count.items(),key=lambda x: (x[1],x[0]),reverse=True)\n",
    "\n",
    "print(\"Locations:\",len(location_count_sorted))\n",
    "# 绘制条形图\n",
    "x = [a[0] for a in location_count_sorted[0:10]]\n",
    "y = [a[1] for a in location_count_sorted[0:10]]\n",
    "_sum = 0\n",
    "for a in location_count_sorted[10:]:\n",
    "\t_sum += a[1]\n",
    "x.append(\"others\")\n",
    "y.append(_sum)\n",
    "plt.title(\"Frequency of each value in location_count\")\n",
    "plt.bar(x,y)\n",
    "plt.show()"
   ]
  },
  {
   "cell_type": "markdown",
   "metadata": {},
   "source": [
    "Aera Id"
   ]
  },
  {
   "cell_type": "code",
   "execution_count": 34,
   "metadata": {},
   "outputs": [
    {
     "name": "stdout",
     "output_type": "stream",
     "text": [
      "Area id: 8\n"
     ]
    },
    {
     "data": {
      "image/png": "[encoded data removed]",
      "text/plain": [
       "<Figure size 432x288 with 1 Axes>"
      ]
     },
     "metadata": {
      "needs_background": "light"
     },
     "output_type": "display_data"
    }
   ],
   "source": [
    "aera_id_count = {}\n",
    "for row in data:\n",
    "\tif row[3] in aera_id_count.keys():\n",
    "\t\taera_id_count[row[3]] +=1\n",
    "\telse:\n",
    "\t\taera_id_count[row[3]] =1\n",
    "\n",
    "aera_id_count_sorted = sorted(aera_id_count.items(),key=lambda x: (x[1],x[0]),reverse=True)\n",
    "\n",
    "print(\"Area id:\",len(aera_id_count_sorted))\n",
    "# 绘制条形图\n",
    "x = [a[0] for a in aera_id_count_sorted]\n",
    "y = [a[1] for a in aera_id_count_sorted]\n",
    "plt.title(\"Frequency of each value in Aera Id\")\n",
    "plt.bar(x,y)\n",
    "plt.show()"
   ]
  },
  {
   "cell_type": "markdown",
   "metadata": {},
   "source": [
    "Beat"
   ]
  },
  {
   "cell_type": "code",
   "execution_count": 54,
   "metadata": {},
   "outputs": [
    {
     "name": "stdout",
     "output_type": "stream",
     "text": [
      "Area id: 59\n",
      "None value num: 580\n"
     ]
    },
    {
     "data": {
      "image/png": "[encoded data removed]",
      "text/plain": [
       "<Figure size 432x288 with 1 Axes>"
      ]
     },
     "metadata": {
      "needs_background": "light"
     },
     "output_type": "display_data"
    }
   ],
   "source": [
    "beat_count = {}\n",
    "for row in data:\n",
    "\tif row[4] in beat_count.keys():\n",
    "\t\tbeat_count[row[4]] += 1\n",
    "\telse:\n",
    "\t\tbeat_count[row[4]] = 1\n",
    "\n",
    "beat_count_sorted = sorted(\n",
    "\tbeat_count.items(), key=lambda x: (x[1], x[0]), reverse=True)\n",
    "\n",
    "print(\"Area id:\", len(beat_count_sorted))\n",
    "print(\"None value num:\",beat_count[\"\"])\n",
    "# 绘制条形图\n",
    "x = [a[0] for a in beat_count_sorted]\n",
    "y = [a[1] for a in beat_count_sorted]\n",
    "plt.title(\"Frequency of each value in Beat\")\n",
    "plt.bar(x, y)\n",
    "plt.show()\n"
   ]
  },
  {
   "cell_type": "markdown",
   "metadata": {},
   "source": [
    "Priority"
   ]
  },
  {
   "cell_type": "code",
   "execution_count": 41,
   "metadata": {},
   "outputs": [
    {
     "name": "stdout",
     "output_type": "stream",
     "text": [
      "Area id: 2\n"
     ]
    },
    {
     "data": {
      "image/png": "[encoded data removed]",
      "text/plain": [
       "<Figure size 432x288 with 1 Axes>"
      ]
     },
     "metadata": {
      "needs_background": "light"
     },
     "output_type": "display_data"
    }
   ],
   "source": [
    "priority_count = {}\n",
    "for row in data:\n",
    "\tif row[5] in priority_count.keys():\n",
    "\t\tpriority_count[row[5]] += 1\n",
    "\telse:\n",
    "\t\tpriority_count[row[5]] = 1\n",
    "\n",
    "priority_count_sorted = sorted(\n",
    "\tpriority_count.items(), key=lambda x: (x[1], x[0]), reverse=True)\n",
    "\n",
    "print(\"Area id:\", len(priority_count_sorted))\n",
    "# 绘制条形图\n",
    "x = [a[0] for a in priority_count_sorted]\n",
    "y = [a[1] for a in priority_count_sorted]\n",
    "plt.title(\"Frequency of each value in Priority\")\n",
    "plt.bar(x, y)\n",
    "plt.show()\n"
   ]
  },
  {
   "cell_type": "markdown",
   "metadata": {},
   "source": [
    "Incident Type Id"
   ]
  },
  {
   "cell_type": "code",
   "execution_count": 42,
   "metadata": {},
   "outputs": [
    {
     "name": "stdout",
     "output_type": "stream",
     "text": [
      "Area id: 242\n"
     ]
    },
    {
     "data": {
      "image/png": "[encoded data removed]",
      "text/plain": [
       "<Figure size 432x288 with 1 Axes>"
      ]
     },
     "metadata": {
      "needs_background": "light"
     },
     "output_type": "display_data"
    }
   ],
   "source": [
    "incident_type_count = {}\n",
    "for row in data:\n",
    "\tif row[6] in incident_type_count.keys():\n",
    "\t\tincident_type_count[row[6]] += 1\n",
    "\telse:\n",
    "\t\tincident_type_count[row[6]] = 1\n",
    "\n",
    "incident_type_count_sorted = sorted(\n",
    "\tincident_type_count.items(), key=lambda x: (x[1], x[0]), reverse=True)\n",
    "\n",
    "print(\"Area id:\", len(incident_type_count_sorted))\n",
    "# 绘制条形图\n",
    "x = [a[0] for a in incident_type_count_sorted]\n",
    "y = [a[1] for a in incident_type_count_sorted]\n",
    "plt.title(\"Frequency of each value in Incident Type\")\n",
    "plt.bar(x, y)\n",
    "plt.show()\n"
   ]
  },
  {
   "cell_type": "markdown",
   "metadata": {},
   "source": [
    "Incidient Type Description"
   ]
  },
  {
   "cell_type": "code",
   "execution_count": 49,
   "metadata": {},
   "outputs": [
    {
     "name": "stdout",
     "output_type": "stream",
     "text": [
      "Area id: 245\n"
     ]
    },
    {
     "data": {
      "image/png": "[encoded data removed]",
      "text/plain": [
       "<Figure size 432x288 with 1 Axes>"
      ]
     },
     "metadata": {
      "needs_background": "light"
     },
     "output_type": "display_data"
    }
   ],
   "source": [
    "incident_type_description_count = {}\n",
    "for row in data:\n",
    "\tif row[7] in incident_type_description_count.keys():\n",
    "\t\tincident_type_description_count[row[7]] += 1\n",
    "\telse:\n",
    "\t\tincident_type_description_count[row[7]] = 1\n",
    "\n",
    "incident_type_description_count_sorted = sorted(\n",
    "\tincident_type_description_count.items(), key=lambda x: (x[1], x[0]), reverse=True)\n",
    "\n",
    "print(\"Area id:\", len(incident_type_description_count_sorted))\n",
    "# 绘制条形图\n",
    "x = [a[0] for a in incident_type_description_count_sorted]\n",
    "y = [a[1] for a in incident_type_description_count_sorted]\n",
    "plt.title(\"Frequency of each value in Incident Type Description\")\n",
    "plt.bar(x, y)\n",
    "plt.show()\n"
   ]
  },
  {
   "cell_type": "markdown",
   "metadata": {},
   "source": [
    "Event Number\n",
    "\n",
    "此字段是犯罪记录的编号，每条记录的编号唯一"
   ]
  },
  {
   "cell_type": "markdown",
   "metadata": {},
   "source": [
    "Closed Time"
   ]
  },
  {
   "cell_type": "code",
   "execution_count": 45,
   "metadata": {},
   "outputs": [
    {
     "data": {
      "image/png": "[encoded data removed]",
      "text/plain": [
       "<Figure size 432x288 with 1 Axes>"
      ]
     },
     "metadata": {
      "needs_background": "light"
     },
     "output_type": "display_data"
    }
   ],
   "source": [
    "closed_time = [datetime.datetime.strptime(x[9], '%Y-%m-%dT%H:%M:%S.000') for x in data]\n",
    "\n",
    "plt.title(\"Closed Time\")\n",
    "plt.hist(closed_time, 50)\n",
    "plt.show()"
   ]
  },
  {
   "cell_type": "markdown",
   "metadata": {},
   "source": [
    "## 二、数据缺失的处理\n",
    "\n",
    "从下面的代码我们可以检查到，仅有Beat属性存在缺失值的情况"
   ]
  },
  {
   "cell_type": "code",
   "execution_count": 50,
   "metadata": {},
   "outputs": [
    {
     "name": "stdout",
     "output_type": "stream",
     "text": [
      "Have None:False   col:Agency\n",
      "Have None:False   col:Create Time\n",
      "Have None:False   col:Location\n",
      "Have None:False   col:Area Id\n",
      "Have None:True    col:Beat\n",
      "Have None:False   col:Priority\n",
      "Have None:False   col:Incident Type Id\n",
      "Have None:False   col:Incident Type Description\n",
      "Have None:False   col:Event Number\n",
      "Have None:False   col:Closed Time\n"
     ]
    }
   ],
   "source": [
    "# 检查属性缺失值\n",
    "for i,key in enumerate(keys):\n",
    "\thas_none = False\n",
    "\tfor j,row in enumerate(data):\n",
    "\t\tif (row[i] == None) or (row[i] == \"\"):\n",
    "\t\t\thas_none = True\n",
    "\t\t\tbreak\n",
    "\tif has_none:\n",
    "\t\tprint(f\"Have None:True    col:{key}\")\n",
    "\telse:\n",
    "\t\tprint(f\"Have None:False   col:{key}\")"
   ]
  },
  {
   "cell_type": "markdown",
   "metadata": {},
   "source": [
    "### 1、将缺失部分剔除"
   ]
  },
  {
   "cell_type": "code",
   "execution_count": 53,
   "metadata": {},
   "outputs": [
    {
     "name": "stdout",
     "output_type": "stream",
     "text": [
      "Before eliminate data len:110827\n",
      "After eliminate data len:110247\n"
     ]
    }
   ],
   "source": [
    "# 对每一个数据，若存在空属性，则将其剔除\n",
    "print(f'Before eliminate data len:{len(data)}')\n",
    "data_elim = [x.copy() for x in data]\t# deep copy\n",
    "data_elim = [x for x in data_elim if not (\"\" in x)]\t\n",
    "print(f'After eliminate data len:{len(data_elim)}')\n"
   ]
  },
  {
   "cell_type": "markdown",
   "metadata": {},
   "source": [
    "### 2、最高频率值填补缺失值"
   ]
  },
  {
   "cell_type": "code",
   "execution_count": 64,
   "metadata": {},
   "outputs": [
    {
     "name": "stdout",
     "output_type": "stream",
     "text": [
      "High Freq Value: ('04X', 4515)\n",
      "Beat have None:False\n"
     ]
    }
   ],
   "source": [
    "high_freq_val = beat_count_sorted[0]\n",
    "print(\"High Freq Value:\",high_freq_val)\n",
    "\n",
    "data_fill_freq = [x.copy() for x in data]\t# deep copy\n",
    "for row in data_fill_freq:\n",
    "\tif row[4] == \"\":\n",
    "\t\trow[4] = high_freq_val[0]\n",
    "\n",
    "# 检查属性缺失值\n",
    "has_none = False\n",
    "for j,row in enumerate(data_fill_freq):\n",
    "\tif (row[4] == None) or (row[4] == \"\"):\n",
    "\t\thas_none = True\n",
    "\t\tprint(row)\n",
    "\t\tbreak\n",
    "if has_none:\n",
    "\tprint(f\"Beat have None:True   \")\n",
    "else:\n",
    "\tprint(f\"Beat have None:False\")"
   ]
  },
  {
   "cell_type": "markdown",
   "metadata": {},
   "source": [
    "### 3、通过属性的相关关系来填充\n",
    "\n",
    "Beat字段的意义是警察巡逻的区域和时间，巡逻警察通常步行或骑自行车巡逻，这样可以在警察和社区成员之间提供更多互动。\n",
    "\n",
    "由于Beat字段和其它属性间的相关性不明确，因此似乎并不适合使用相关关系填充的方法。进一步可以使用协方差的方式来评估属性间相关关系，但是这样做似乎没有必要，反而可能会为数据带来噪声"
   ]
  },
  {
   "cell_type": "markdown",
   "metadata": {},
   "source": [
    "### 4、通过数据对象之间的相似性来填补缺失值"
   ]
  },
  {
   "cell_type": "code",
   "execution_count": 67,
   "metadata": {},
   "outputs": [],
   "source": [
    "def cal_distance(row1,row2):\n",
    "\tdist = 0\n",
    "\tfor col in range(0,10):\n",
    "\t\tif (row1[col] != \"\") and (row2[col] != \"\"):\n",
    "\t\t\tif row1[col] != row2[col]:\n",
    "\t\t\t\tdist += 1\n",
    "\treturn dist\n",
    "\n",
    "\n",
    "def find_min_dist_row(data, row):\n",
    "\tmin_dist = 999999999\n",
    "\tres = None\n",
    "\tfor _row in data:\n",
    "\t\tif _row != row:\n",
    "\t\t\tdist = cal_distance(_row, row)\n",
    "\t\t\tif dist < min_dist:\n",
    "\t\t\t\tmin_dist = dist\n",
    "\t\t\t\tres = _row\n",
    "\treturn res\n",
    "\n",
    "data_fill_obj_similarity = [x.copy() for x in data]\t# deep copy\n",
    "for row in data_fill_obj_similarity:\n",
    "\tif row[4] == \"\":\n",
    "\t\trow[4] = find_min_dist_row(data_fill_obj_similarity, row)[4]\n",
    "\n",
    "\t\n"
   ]
  },
  {
   "cell_type": "markdown",
   "metadata": {},
   "source": [
    "### 5、新旧数据集可视化对比\n",
    "\n",
    "由于我们的数据填充仅涉及Beat属性，因此仅对此属性在填充前后的数值进行对比分析。\n",
    "\n",
    "从分析结果我们可以看到，三种数据缺失的处理方法在结果上差异不大。对比剔除缺失值和高频值填充两个方法，高频值填充方法在高频值取值的数量上有小幅提升，但从整体来看仍不明显。\n",
    "\n",
    "这主要是因为缺失数据量较少，仅有580/110827。因此在这种情况下，采用剔除缺失值的方法可以获得更快的处理效率，是一种比较理想的选择。"
   ]
  },
  {
   "cell_type": "code",
   "execution_count": 71,
   "metadata": {},
   "outputs": [
    {
     "name": "stdout",
     "output_type": "stream",
     "text": [
      "Eliminate:\n",
      "Area id: 58\n"
     ]
    },
    {
     "data": {
      "image/png": "[encoded data removed]",
      "text/plain": [
       "<Figure size 432x288 with 1 Axes>"
      ]
     },
     "metadata": {
      "needs_background": "light"
     },
     "output_type": "display_data"
    },
    {
     "name": "stdout",
     "output_type": "stream",
     "text": [
      "-------------------------\n",
      "Fill Freq:\n",
      "Area id: 58\n"
     ]
    },
    {
     "data": {
      "image/png": "[encoded data removed]",
      "text/plain": [
       "<Figure size 432x288 with 1 Axes>"
      ]
     },
     "metadata": {
      "needs_background": "light"
     },
     "output_type": "display_data"
    },
    {
     "name": "stdout",
     "output_type": "stream",
     "text": [
      "-------------------------\n",
      "Object Relation:\n",
      "Area id: 59\n"
     ]
    },
    {
     "data": {
      "image/png": "[encoded data removed]",
      "text/plain": [
       "<Figure size 432x288 with 1 Axes>"
      ]
     },
     "metadata": {
      "needs_background": "light"
     },
     "output_type": "display_data"
    }
   ],
   "source": [
    "def compare_beat(data):\n",
    "\tbeat_count = {}\n",
    "\tfor row in data:\n",
    "\t\tif row[4] in beat_count.keys():\n",
    "\t\t\tbeat_count[row[4]] += 1\n",
    "\t\telse:\n",
    "\t\t\tbeat_count[row[4]] = 1\n",
    "\n",
    "\tbeat_count_sorted = sorted(\n",
    "\t\tbeat_count.items(), key=lambda x: (x[1], x[0]), reverse=True)\n",
    "\n",
    "\tprint(\"Area id:\", len(beat_count_sorted))\n",
    "\n",
    "\t# 绘制条形图\n",
    "\tx = [a[0] for a in beat_count_sorted]\n",
    "\ty = [a[1] for a in beat_count_sorted]\n",
    "\tplt.title(\"Frequency of each value in Beat\")\n",
    "\tplt.bar(x, y)\n",
    "\tplt.show()\n",
    "\n",
    "print(\"Eliminate:\")\n",
    "compare_beat(data_elim)\n",
    "print(\"-------------------------\")\n",
    "print(\"Fill Freq:\")\n",
    "compare_beat(data_fill_freq)\n",
    "print(\"-------------------------\")\n",
    "print(\"Object Relation:\")\n",
    "compare_beat(data_fill_obj_similarity)\n",
    "\n"
   ]
  }
 ],
 "metadata": {
  "interpreter": {
   "hash": "a8f61be024eba58adef938c9aa1e29e02cb3dece83a5348b1a2dafd16a070453"
  },
  "kernelspec": {
   "display_name": "Python 3.8.8 ('base')",
   "language": "python",
   "name": "python3"
  },
  "language_info": {
   "codemirror_mode": {
    "name": "ipython",
    "version": 3
   },
   "file_extension": ".py",
   "mimetype": "text/x-python",
   "name": "python",
   "nbconvert_exporter": "python",
   "pygments_lexer": "ipython3",
   "version": "3.8.8"
  },
  "orig_nbformat": 4
 },
 "nbformat": 4,
 "nbformat_minor": 2
}
